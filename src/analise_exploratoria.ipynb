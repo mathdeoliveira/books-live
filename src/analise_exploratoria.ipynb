{
 "cells": [
  {
   "cell_type": "code",
   "execution_count": 1,
   "metadata": {},
   "outputs": [],
   "source": [
    "import pandas as pd\n",
    "import sqlite3\n",
    "import matplotlib.pyplot as plt\n",
    "import seaborn as sns\n",
    "import os"
   ]
  },
  {
   "cell_type": "code",
   "execution_count": 2,
   "metadata": {},
   "outputs": [],
   "source": [
    "dados = '/home/matheus/Documentos/books-scrap/data/db_books.sqlite3'"
   ]
  },
  {
   "cell_type": "code",
   "execution_count": 3,
   "metadata": {},
   "outputs": [
    {
     "data": {
      "text/html": [
       "<div>\n",
       "<style scoped>\n",
       "    .dataframe tbody tr th:only-of-type {\n",
       "        vertical-align: middle;\n",
       "    }\n",
       "\n",
       "    .dataframe tbody tr th {\n",
       "        vertical-align: top;\n",
       "    }\n",
       "\n",
       "    .dataframe thead th {\n",
       "        text-align: right;\n",
       "    }\n",
       "</style>\n",
       "<table border=\"1\" class=\"dataframe\">\n",
       "  <thead>\n",
       "    <tr style=\"text-align: right;\">\n",
       "      <th></th>\n",
       "      <th>categoria</th>\n",
       "      <th>titulo</th>\n",
       "      <th>id</th>\n",
       "      <th>preco_sem_taxa</th>\n",
       "      <th>preco_real</th>\n",
       "      <th>taxa</th>\n",
       "      <th>estoque</th>\n",
       "      <th>reviews</th>\n",
       "      <th>estrelas</th>\n",
       "    </tr>\n",
       "  </thead>\n",
       "  <tbody>\n",
       "    <tr>\n",
       "      <th>0</th>\n",
       "      <td>Philosophy</td>\n",
       "      <td>The Stranger</td>\n",
       "      <td>f5a92cff83897d48</td>\n",
       "      <td>£17.44</td>\n",
       "      <td>£17.44</td>\n",
       "      <td>£0.00</td>\n",
       "      <td>In stock (15 available)</td>\n",
       "      <td>0</td>\n",
       "      <td>star-rating Four</td>\n",
       "    </tr>\n",
       "    <tr>\n",
       "      <th>1</th>\n",
       "      <td>Business</td>\n",
       "      <td>The Third Wave: An Entrepreneur’s Vision of th...</td>\n",
       "      <td>3bebf34ee9330cbd</td>\n",
       "      <td>£12.61</td>\n",
       "      <td>£12.61</td>\n",
       "      <td>£0.00</td>\n",
       "      <td>In stock (15 available)</td>\n",
       "      <td>0</td>\n",
       "      <td>star-rating Five</td>\n",
       "    </tr>\n",
       "    <tr>\n",
       "      <th>2</th>\n",
       "      <td>Fiction</td>\n",
       "      <td>The Vacationers</td>\n",
       "      <td>fd3a622648667296</td>\n",
       "      <td>£42.15</td>\n",
       "      <td>£42.15</td>\n",
       "      <td>£0.00</td>\n",
       "      <td>In stock (15 available)</td>\n",
       "      <td>0</td>\n",
       "      <td>star-rating Four</td>\n",
       "    </tr>\n",
       "    <tr>\n",
       "      <th>3</th>\n",
       "      <td>Childrens</td>\n",
       "      <td>The White Cat and the Monk: A Retelling of the...</td>\n",
       "      <td>37c0cb19713d8dda</td>\n",
       "      <td>£58.08</td>\n",
       "      <td>£58.08</td>\n",
       "      <td>£0.00</td>\n",
       "      <td>In stock (15 available)</td>\n",
       "      <td>0</td>\n",
       "      <td>star-rating Four</td>\n",
       "    </tr>\n",
       "    <tr>\n",
       "      <th>4</th>\n",
       "      <td>Romance</td>\n",
       "      <td>The Wedding Dress</td>\n",
       "      <td>623e1a180426039b</td>\n",
       "      <td>£24.12</td>\n",
       "      <td>£24.12</td>\n",
       "      <td>£0.00</td>\n",
       "      <td>In stock (15 available)</td>\n",
       "      <td>0</td>\n",
       "      <td>star-rating One</td>\n",
       "    </tr>\n",
       "  </tbody>\n",
       "</table>\n",
       "</div>"
      ],
      "text/plain": [
       "    categoria                                             titulo  \\\n",
       "0  Philosophy                                       The Stranger   \n",
       "1    Business  The Third Wave: An Entrepreneur’s Vision of th...   \n",
       "2     Fiction                                    The Vacationers   \n",
       "3   Childrens  The White Cat and the Monk: A Retelling of the...   \n",
       "4     Romance                                  The Wedding Dress   \n",
       "\n",
       "                 id preco_sem_taxa preco_real   taxa                  estoque  \\\n",
       "0  f5a92cff83897d48         £17.44     £17.44  £0.00  In stock (15 available)   \n",
       "1  3bebf34ee9330cbd         £12.61     £12.61  £0.00  In stock (15 available)   \n",
       "2  fd3a622648667296         £42.15     £42.15  £0.00  In stock (15 available)   \n",
       "3  37c0cb19713d8dda         £58.08     £58.08  £0.00  In stock (15 available)   \n",
       "4  623e1a180426039b         £24.12     £24.12  £0.00  In stock (15 available)   \n",
       "\n",
       "  reviews          estrelas  \n",
       "0       0  star-rating Four  \n",
       "1       0  star-rating Five  \n",
       "2       0  star-rating Four  \n",
       "3       0  star-rating Four  \n",
       "4       0   star-rating One  "
      ]
     },
     "execution_count": 3,
     "metadata": {},
     "output_type": "execute_result"
    }
   ],
   "source": [
    "connect = sqlite3.connect(dados)\n",
    "\n",
    "query = 'select * from books'\n",
    "\n",
    "df = pd.read_sql_query(query, connect)\n",
    "\n",
    "df.head()"
   ]
  },
  {
   "cell_type": "markdown",
   "metadata": {},
   "source": [
    "# Pré-Processamento dos dados"
   ]
  },
  {
   "cell_type": "code",
   "execution_count": 4,
   "metadata": {},
   "outputs": [],
   "source": [
    "def preprocess(df):\n",
    "    \"\"\"\n",
    "    Função responsável por fazer um pre-processamento dos dados do datafram\n",
    "\n",
    "    Args: Espera um dataframe do pandas\n",
    "\n",
    "    Retorna: Um dataframe do pandas\n",
    "    \"\"\"\n",
    "    df['preco_sem_taxa'] = pd.to_numeric([x[1:] for x in df['preco_sem_taxa']])\n",
    "    df['preco_real'] = pd.to_numeric([x[1:] for x in df['preco_real']])\n",
    "    df['taxa'] = pd.to_numeric([x[1:] for x in df['taxa']])\n",
    "    df['estoque'] = pd.to_numeric(df['estoque'].str.extract('(\\d+)', expand=False))\n",
    "    df['reviews'] = pd.to_numeric(df['reviews'])\n",
    "    df['estrelas'] = [x[12:] for x in df['estrelas']]\n",
    "    df[\"estrelas\"].replace({\"One\": 1, \n",
    "                        \"Two\": 2,\n",
    "                        \"Three\": 3,\n",
    "                        \"Four\": 4,\n",
    "                        \"Five\": 5}, inplace=True)\n",
    "\n",
    "\n",
    "    return df"
   ]
  },
  {
   "cell_type": "code",
   "execution_count": 5,
   "metadata": {},
   "outputs": [],
   "source": [
    "df = preprocess(df)"
   ]
  },
  {
   "cell_type": "code",
   "execution_count": 6,
   "metadata": {},
   "outputs": [
    {
     "data": {
      "text/html": [
       "<div>\n",
       "<style scoped>\n",
       "    .dataframe tbody tr th:only-of-type {\n",
       "        vertical-align: middle;\n",
       "    }\n",
       "\n",
       "    .dataframe tbody tr th {\n",
       "        vertical-align: top;\n",
       "    }\n",
       "\n",
       "    .dataframe thead th {\n",
       "        text-align: right;\n",
       "    }\n",
       "</style>\n",
       "<table border=\"1\" class=\"dataframe\">\n",
       "  <thead>\n",
       "    <tr style=\"text-align: right;\">\n",
       "      <th></th>\n",
       "      <th>categoria</th>\n",
       "      <th>titulo</th>\n",
       "      <th>id</th>\n",
       "      <th>preco_sem_taxa</th>\n",
       "      <th>preco_real</th>\n",
       "      <th>taxa</th>\n",
       "      <th>estoque</th>\n",
       "      <th>reviews</th>\n",
       "      <th>estrelas</th>\n",
       "    </tr>\n",
       "  </thead>\n",
       "  <tbody>\n",
       "    <tr>\n",
       "      <th>0</th>\n",
       "      <td>Philosophy</td>\n",
       "      <td>The Stranger</td>\n",
       "      <td>f5a92cff83897d48</td>\n",
       "      <td>17.44</td>\n",
       "      <td>17.44</td>\n",
       "      <td>0.0</td>\n",
       "      <td>15</td>\n",
       "      <td>0</td>\n",
       "      <td>4</td>\n",
       "    </tr>\n",
       "    <tr>\n",
       "      <th>1</th>\n",
       "      <td>Business</td>\n",
       "      <td>The Third Wave: An Entrepreneur’s Vision of th...</td>\n",
       "      <td>3bebf34ee9330cbd</td>\n",
       "      <td>12.61</td>\n",
       "      <td>12.61</td>\n",
       "      <td>0.0</td>\n",
       "      <td>15</td>\n",
       "      <td>0</td>\n",
       "      <td>5</td>\n",
       "    </tr>\n",
       "    <tr>\n",
       "      <th>2</th>\n",
       "      <td>Fiction</td>\n",
       "      <td>The Vacationers</td>\n",
       "      <td>fd3a622648667296</td>\n",
       "      <td>42.15</td>\n",
       "      <td>42.15</td>\n",
       "      <td>0.0</td>\n",
       "      <td>15</td>\n",
       "      <td>0</td>\n",
       "      <td>4</td>\n",
       "    </tr>\n",
       "    <tr>\n",
       "      <th>3</th>\n",
       "      <td>Childrens</td>\n",
       "      <td>The White Cat and the Monk: A Retelling of the...</td>\n",
       "      <td>37c0cb19713d8dda</td>\n",
       "      <td>58.08</td>\n",
       "      <td>58.08</td>\n",
       "      <td>0.0</td>\n",
       "      <td>15</td>\n",
       "      <td>0</td>\n",
       "      <td>4</td>\n",
       "    </tr>\n",
       "    <tr>\n",
       "      <th>4</th>\n",
       "      <td>Romance</td>\n",
       "      <td>The Wedding Dress</td>\n",
       "      <td>623e1a180426039b</td>\n",
       "      <td>24.12</td>\n",
       "      <td>24.12</td>\n",
       "      <td>0.0</td>\n",
       "      <td>15</td>\n",
       "      <td>0</td>\n",
       "      <td>1</td>\n",
       "    </tr>\n",
       "  </tbody>\n",
       "</table>\n",
       "</div>"
      ],
      "text/plain": [
       "    categoria                                             titulo  \\\n",
       "0  Philosophy                                       The Stranger   \n",
       "1    Business  The Third Wave: An Entrepreneur’s Vision of th...   \n",
       "2     Fiction                                    The Vacationers   \n",
       "3   Childrens  The White Cat and the Monk: A Retelling of the...   \n",
       "4     Romance                                  The Wedding Dress   \n",
       "\n",
       "                 id  preco_sem_taxa  preco_real  taxa  estoque  reviews  \\\n",
       "0  f5a92cff83897d48           17.44       17.44   0.0       15        0   \n",
       "1  3bebf34ee9330cbd           12.61       12.61   0.0       15        0   \n",
       "2  fd3a622648667296           42.15       42.15   0.0       15        0   \n",
       "3  37c0cb19713d8dda           58.08       58.08   0.0       15        0   \n",
       "4  623e1a180426039b           24.12       24.12   0.0       15        0   \n",
       "\n",
       "   estrelas  \n",
       "0         4  \n",
       "1         5  \n",
       "2         4  \n",
       "3         4  \n",
       "4         1  "
      ]
     },
     "execution_count": 6,
     "metadata": {},
     "output_type": "execute_result"
    }
   ],
   "source": [
    "df.head()"
   ]
  },
  {
   "cell_type": "code",
   "execution_count": 7,
   "metadata": {},
   "outputs": [
    {
     "data": {
      "text/plain": [
       "categoria          object\n",
       "titulo             object\n",
       "id                 object\n",
       "preco_sem_taxa    float64\n",
       "preco_real        float64\n",
       "taxa              float64\n",
       "estoque             int64\n",
       "reviews             int64\n",
       "estrelas            int64\n",
       "dtype: object"
      ]
     },
     "execution_count": 7,
     "metadata": {},
     "output_type": "execute_result"
    }
   ],
   "source": [
    "df.dtypes"
   ]
  },
  {
   "cell_type": "markdown",
   "metadata": {},
   "source": [
    "# Análise Exploratória dos Dados"
   ]
  },
  {
   "cell_type": "code",
   "execution_count": 8,
   "metadata": {},
   "outputs": [
    {
     "data": {
      "text/plain": [
       "array(['Philosophy', 'Business', 'Fiction', 'Childrens', 'Romance',\n",
       "       'Default', 'Sequential Art', 'Fantasy', 'Christian', 'Horror',\n",
       "       'Young Adult', 'Health', 'Spirituality', 'Humor', 'Novels',\n",
       "       'Science', 'Religion', 'Food and Drink', 'Nonfiction',\n",
       "       'Add a comment', 'Christian Fiction', 'Suspense', 'Short Stories',\n",
       "       'Art', 'Travel', 'Poetry', 'Music', 'Science Fiction',\n",
       "       'Womens Fiction', 'Autobiography', 'Historical Fiction',\n",
       "       'Psychology', 'Mystery', 'Biography', 'Politics', 'History',\n",
       "       'Historical', 'Self Help', 'Contemporary', 'Thriller', 'Cultural',\n",
       "       'Erotica', 'New Adult', 'Crime', 'Classics', 'Academic',\n",
       "       'Sports and Games', 'Paranormal', 'Parenting', 'Adult Fiction'],\n",
       "      dtype=object)"
      ]
     },
     "execution_count": 8,
     "metadata": {},
     "output_type": "execute_result"
    }
   ],
   "source": [
    "df['categoria'].unique()"
   ]
  },
  {
   "cell_type": "code",
   "execution_count": 9,
   "metadata": {},
   "outputs": [
    {
     "data": {
      "text/html": [
       "<div>\n",
       "<style scoped>\n",
       "    .dataframe tbody tr th:only-of-type {\n",
       "        vertical-align: middle;\n",
       "    }\n",
       "\n",
       "    .dataframe tbody tr th {\n",
       "        vertical-align: top;\n",
       "    }\n",
       "\n",
       "    .dataframe thead th {\n",
       "        text-align: right;\n",
       "    }\n",
       "</style>\n",
       "<table border=\"1\" class=\"dataframe\">\n",
       "  <thead>\n",
       "    <tr style=\"text-align: right;\">\n",
       "      <th></th>\n",
       "      <th>preco_sem_taxa</th>\n",
       "      <th>preco_real</th>\n",
       "      <th>taxa</th>\n",
       "      <th>estoque</th>\n",
       "      <th>reviews</th>\n",
       "      <th>estrelas</th>\n",
       "    </tr>\n",
       "  </thead>\n",
       "  <tbody>\n",
       "    <tr>\n",
       "      <th>count</th>\n",
       "      <td>1000.00000</td>\n",
       "      <td>1000.00000</td>\n",
       "      <td>1000.0</td>\n",
       "      <td>1000.000000</td>\n",
       "      <td>1000.0</td>\n",
       "      <td>1000.000000</td>\n",
       "    </tr>\n",
       "    <tr>\n",
       "      <th>mean</th>\n",
       "      <td>35.07035</td>\n",
       "      <td>35.07035</td>\n",
       "      <td>0.0</td>\n",
       "      <td>8.585000</td>\n",
       "      <td>0.0</td>\n",
       "      <td>2.923000</td>\n",
       "    </tr>\n",
       "    <tr>\n",
       "      <th>std</th>\n",
       "      <td>14.44669</td>\n",
       "      <td>14.44669</td>\n",
       "      <td>0.0</td>\n",
       "      <td>5.654622</td>\n",
       "      <td>0.0</td>\n",
       "      <td>1.434967</td>\n",
       "    </tr>\n",
       "    <tr>\n",
       "      <th>min</th>\n",
       "      <td>10.00000</td>\n",
       "      <td>10.00000</td>\n",
       "      <td>0.0</td>\n",
       "      <td>1.000000</td>\n",
       "      <td>0.0</td>\n",
       "      <td>1.000000</td>\n",
       "    </tr>\n",
       "    <tr>\n",
       "      <th>25%</th>\n",
       "      <td>22.10750</td>\n",
       "      <td>22.10750</td>\n",
       "      <td>0.0</td>\n",
       "      <td>3.000000</td>\n",
       "      <td>0.0</td>\n",
       "      <td>2.000000</td>\n",
       "    </tr>\n",
       "    <tr>\n",
       "      <th>50%</th>\n",
       "      <td>35.98000</td>\n",
       "      <td>35.98000</td>\n",
       "      <td>0.0</td>\n",
       "      <td>7.000000</td>\n",
       "      <td>0.0</td>\n",
       "      <td>3.000000</td>\n",
       "    </tr>\n",
       "    <tr>\n",
       "      <th>75%</th>\n",
       "      <td>47.45750</td>\n",
       "      <td>47.45750</td>\n",
       "      <td>0.0</td>\n",
       "      <td>14.000000</td>\n",
       "      <td>0.0</td>\n",
       "      <td>4.000000</td>\n",
       "    </tr>\n",
       "    <tr>\n",
       "      <th>max</th>\n",
       "      <td>59.99000</td>\n",
       "      <td>59.99000</td>\n",
       "      <td>0.0</td>\n",
       "      <td>22.000000</td>\n",
       "      <td>0.0</td>\n",
       "      <td>5.000000</td>\n",
       "    </tr>\n",
       "  </tbody>\n",
       "</table>\n",
       "</div>"
      ],
      "text/plain": [
       "       preco_sem_taxa  preco_real    taxa      estoque  reviews     estrelas\n",
       "count      1000.00000  1000.00000  1000.0  1000.000000   1000.0  1000.000000\n",
       "mean         35.07035    35.07035     0.0     8.585000      0.0     2.923000\n",
       "std          14.44669    14.44669     0.0     5.654622      0.0     1.434967\n",
       "min          10.00000    10.00000     0.0     1.000000      0.0     1.000000\n",
       "25%          22.10750    22.10750     0.0     3.000000      0.0     2.000000\n",
       "50%          35.98000    35.98000     0.0     7.000000      0.0     3.000000\n",
       "75%          47.45750    47.45750     0.0    14.000000      0.0     4.000000\n",
       "max          59.99000    59.99000     0.0    22.000000      0.0     5.000000"
      ]
     },
     "execution_count": 9,
     "metadata": {},
     "output_type": "execute_result"
    }
   ],
   "source": [
    "df.describe()"
   ]
  },
  {
   "cell_type": "markdown",
   "metadata": {},
   "source": [
    "Sobre a tabela acima...."
   ]
  },
  {
   "cell_type": "code",
   "execution_count": 10,
   "metadata": {},
   "outputs": [
    {
     "data": {
      "text/plain": [
       "<matplotlib.axes._subplots.AxesSubplot at 0x7f569ae38c10>"
      ]
     },
     "execution_count": 10,
     "metadata": {},
     "output_type": "execute_result"
    },
    {
     "data": {
      "image/png": "[encoded data removed]",
      "text/plain": [
       "<Figure size 432x288 with 1 Axes>"
      ]
     },
     "metadata": {
      "needs_background": "light"
     },
     "output_type": "display_data"
    }
   ],
   "source": [
    "sns.countplot(x = 'estrelas', data = df)"
   ]
  },
  {
   "cell_type": "code",
   "execution_count": 11,
   "metadata": {},
   "outputs": [
    {
     "data": {
      "image/png": "[encoded data removed]",
      "text/plain": [
       "<Figure size 720x360 with 1 Axes>"
      ]
     },
     "metadata": {
      "needs_background": "light"
     },
     "output_type": "display_data"
    }
   ],
   "source": [
    "plt.figure(figsize = (10, 5))\n",
    "plt.scatter(data = df, x = 'categoria', y = 'preco_real')\n",
    "plt.xlabel('Categoria')\n",
    "plt.ylabel('Preço do livro')\n",
    "plt.xticks(rotation = 90)\n",
    "plt.tight_layout()"
   ]
  },
  {
   "cell_type": "code",
   "execution_count": 12,
   "metadata": {},
   "outputs": [
    {
     "data": {
      "text/plain": [
       "categoria\n",
       "Default           5227.69\n",
       "Nonfiction        3768.62\n",
       "Sequential Art    2592.92\n",
       "Add a comment     2398.36\n",
       "Fiction           2344.33\n",
       "Name: preco_real, dtype: float64"
      ]
     },
     "execution_count": 12,
     "metadata": {},
     "output_type": "execute_result"
    }
   ],
   "source": [
    "df.groupby('categoria').preco_real.sum().sort_values(ascending = False).head(5)"
   ]
  },
  {
   "cell_type": "code",
   "execution_count": 13,
   "metadata": {},
   "outputs": [
    {
     "data": {
      "text/plain": [
       "estrelas\n",
       "1    7810.83\n",
       "3    7042.48\n",
       "5    6933.40\n",
       "2    6822.94\n",
       "4    6460.70\n",
       "Name: preco_real, dtype: float64"
      ]
     },
     "execution_count": 13,
     "metadata": {},
     "output_type": "execute_result"
    }
   ],
   "source": [
    "df.groupby('estrelas').preco_real.sum().sort_values(ascending = False).head(5)"
   ]
  },
  {
   "cell_type": "code",
   "execution_count": 14,
   "metadata": {},
   "outputs": [],
   "source": [
    "df.to_csv('/home/matheus/Documentos/books-scrap/data/books.csv', index = False)"
   ]
  }
 ],
 "metadata": {
  "kernelspec": {
   "display_name": "Python 3.8.3 64-bit ('books': conda)",
   "language": "python",
   "name": "python38364bitbookscondaa80d64eb580d49c4a8ad26a690db5ec3"
  },
  "language_info": {
   "codemirror_mode": {
    "name": "ipython",
    "version": 3
   },
   "file_extension": ".py",
   "mimetype": "text/x-python",
   "name": "python",
   "nbconvert_exporter": "python",
   "pygments_lexer": "ipython3",
   "version": "3.8.3"
  }
 },
 "nbformat": 4,
 "nbformat_minor": 2
}
